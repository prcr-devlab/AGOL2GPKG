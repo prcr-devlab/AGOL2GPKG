{
 "cells": [
  {
   "cell_type": "markdown",
   "metadata": {},
   "source": [
    "# AGOL to GeoPackage"
   ]
  },
  {
   "cell_type": "code",
   "execution_count": 1,
   "metadata": {},
   "outputs": [],
   "source": [
    "from arcgis.gis import GIS\n",
    "from arcgis.features import FeatureSet\n",
    "from shapely.geometry import (Polygon, MultiPolygon,\n",
    "                             LineString, MultiLineString,\n",
    "                             Point, MultiPoint,\n",
    "                             GeometryCollection,\n",
    "                             mapping)\n",
    "import fiona\n",
    "from fiona.crs import from_epsg\n",
    "import pandas as pd\n",
    "import sqlite3\n",
    "import json\n",
    "import datetime\n",
    "import config"
   ]
  },
  {
   "cell_type": "markdown",
   "metadata": {},
   "source": [
    "## Helpful stuff\n",
    "\n",
    "List of items on AGOL to back up to a Geopackage"
   ]
  },
  {
   "cell_type": "code",
   "execution_count": 2,
   "metadata": {},
   "outputs": [],
   "source": [
    "items = [{\n",
    "            \"name\":\"parks_master\",\n",
    "            \"item\":\"e891be88e3ea4e58824b76e1db80b126\",\n",
    "            \"layer\":0\n",
    "         },\n",
    "         {\n",
    "            \"name\":\"park_access_points\",\n",
    "            \"item\":\"97ad22f4c1d74db7b6b64c3c0c95e3b0\",\n",
    "            \"layer\":0\n",
    "         },\n",
    "         {\n",
    "             \"name\":\"park_analysis_tiers\",\n",
    "             \"item\":\"da7ab59d8303415b91d520f417d83537\",\n",
    "             \"layer\":0\n",
    "         },\n",
    "         {\n",
    "             \"name\":\"greenway_trails_master\",\n",
    "              \"item\":\"d1e1f46354954d94b8600042533e27dc\",\n",
    "              \"layer\":0\n",
    "         },\n",
    "         {\n",
    "             \"name\":\"greenways_master\",\n",
    "              \"item\":\"7b01cd380dc34f6bbc64e8215c95015e\",\n",
    "              \"layer\":0\n",
    "         }]"
   ]
  },
  {
   "cell_type": "markdown",
   "metadata": {},
   "source": [
    "Function to classify Esri data types into generic data types"
   ]
  },
  {
   "cell_type": "code",
   "execution_count": 3,
   "metadata": {},
   "outputs": [],
   "source": [
    "def convert_esri_data_type(field_type):\n",
    "    if field_type in [\"esriFieldTypeOID\", \"esriFieldTypeGUID\", \"esriFieldTypeGlobalID\"]:\n",
    "        return None\n",
    "    elif field_type in [\"esriFieldTypeString\", \"esriFieldTypeDate\"]:\n",
    "        return \"str\"\n",
    "    elif field_type in [\"esriFieldTypeSmallInteger\", \"esriFieldTypeInteger\"]:\n",
    "        return \"int\"\n",
    "    elif field_type in [\"esriFieldTypeSingle\", \"esriFieldTypeDouble\"]:\n",
    "        return \"float\"\n",
    "    else:\n",
    "        return field_type"
   ]
  },
  {
   "cell_type": "markdown",
   "metadata": {},
   "source": [
    "Function to classify Esri geometries as shapely geometries"
   ]
  },
  {
   "cell_type": "code",
   "execution_count": 4,
   "metadata": {},
   "outputs": [],
   "source": [
    "def convert_esri_geometry_type(geometry_type):\n",
    "    if geometry_type == \"esriGeometryPoint\":\n",
    "        return \"Point\"\n",
    "    elif geometry_type == \"esriGeometryMultipoint\":\n",
    "        return \"MultiPoint\"\n",
    "    elif geometry_type == \"esriGeometryPolyline\":\n",
    "        return \"MultiLineString\"\n",
    "    elif geometry_type == \"esriGeometryPolygon\":\n",
    "        return \"MultiPolygon\"\n",
    "    else:\n",
    "        return \"GeometryCollection\""
   ]
  },
  {
   "cell_type": "markdown",
   "metadata": {},
   "source": [
    "## Login to AGOL"
   ]
  },
  {
   "cell_type": "code",
   "execution_count": 5,
   "metadata": {},
   "outputs": [],
   "source": [
    "gis = GIS(url = config.AGOL_URL,\n",
    "          username = config.AGOL_USERNAME,\n",
    "          password = config.AGOL_PASSWORD)"
   ]
  },
  {
   "cell_type": "markdown",
   "metadata": {},
   "source": [
    "## Backup the data"
   ]
  },
  {
   "cell_type": "code",
   "execution_count": 6,
   "metadata": {},
   "outputs": [
    {
     "name": "stdout",
     "output_type": "stream",
     "text": [
      "Processing parks_master...\n",
      "Writing layer parks_master to parks_20180708_220707.gpkg\n",
      "Writing layer parks_master to parks_20180708_220707.gpkg complete!\n",
      "\n",
      "Processing park_access_points...\n",
      "Writing layer park_access_points to parks_20180708_220707.gpkg\n",
      "Writing layer park_access_points to parks_20180708_220707.gpkg complete!\n",
      "\n",
      "Processing park_analysis_tiers...\n",
      "park_analysis_tiers is a table. It will be processed after layers.\n",
      "\n",
      "Processing greenway_trails_master...\n",
      "Writing layer greenway_trails_master to parks_20180708_220707.gpkg\n",
      "Writing layer greenway_trails_master to parks_20180708_220707.gpkg complete!\n",
      "\n",
      "Processing greenways_master...\n",
      "Writing layer greenways_master to parks_20180708_220707.gpkg\n",
      "Writing layer greenways_master to parks_20180708_220707.gpkg complete!\n",
      "\n",
      "Processing 1 table(s)...\n",
      "\n",
      "Processing park_analysis_tiers\n",
      "Writing table park_analysis_tiers to parks_20180708_220707.gpkg\n",
      "Writing table park_analysis_tiers to parks_20180708_220707.gpkg complete!\n",
      "\n",
      "Process complete.\n"
     ]
    }
   ],
   "source": [
    "process_datetime = datetime.datetime.now()\n",
    "gpkg_suffix = process_datetime.strftime(\"%Y%m%d_%H%m%S\")\n",
    "tables_list = []\n",
    "for i in items:\n",
    "    print(\"Processing {}...\".format(i[\"name\"]))\n",
    "    # Get item layer as json\n",
    "    item = gis.content.get(i[\"item\"])\n",
    "    if \"Table\" in dict(item.items())[\"typeKeywords\"]:\n",
    "        print(\"{} is a table. It will be processed after layers.\\n\".format(i[\"name\"]))\n",
    "        i[\"table_item\"] = item\n",
    "        tables_list.append(i)\n",
    "    else:    \n",
    "        item_json = json.loads(item.layers[i[\"layer\"]].query().to_json)\n",
    "\n",
    "        if item_json[\"geometryType\"]:\n",
    "            # Get CRS\n",
    "            crs = from_epsg(item_json[\"spatialReference\"][\"latestWkid\"])\n",
    "\n",
    "            # Get Esri geometry type and convert to Shapely geometry type\n",
    "            geometry_type = convert_esri_geometry_type(item_json[\"geometryType\"])\n",
    "\n",
    "        # Get fields and data types to setup schema\n",
    "        properties_list = []\n",
    "        for f in item_json[\"fields\"]:\n",
    "            field_type = convert_esri_data_type(f[\"type\"])\n",
    "            if field_type is not None:\n",
    "                properties_list.append((f[\"name\"], field_type))\n",
    "\n",
    "\n",
    "        schema = {\"geometry\": geometry_type,\n",
    "                  \"properties\": properties_list}\n",
    "\n",
    "\n",
    "        geopackage_name = \"parks_{}.gpkg\".format(gpkg_suffix)\n",
    "        feature_list = []\n",
    "\n",
    "        for item_feature in item_json[\"features\"]:\n",
    "            multigeom_list = []\n",
    "            geom = \"\"\n",
    "            if schema[\"geometry\"] == \"MultiPolygon\":\n",
    "                for ring in item_feature[\"geometry\"][\"rings\"]:\n",
    "                    multigeom_list.append(Polygon(ring))\n",
    "                geom = MultiPolygon(multigeom_list)\n",
    "            elif schema[\"geometry\"] == \"MultiLineString\":\n",
    "                for path in item_feature[\"geometry\"][\"paths\"]:\n",
    "                    multigeom_list.append(LineString(path))\n",
    "                geom = MultiLineString(multigeom_list)\n",
    "            elif schema[\"geometry\"] == \"Point\":\n",
    "                item_feature_x = item_feature[\"geometry\"][\"x\"]\n",
    "                item_feature_y = item_feature[\"geometry\"][\"y\"]\n",
    "                geom = Point(item_feature_x, item_feature_y)\n",
    "\n",
    "            properties_dict = {}\n",
    "            for p in schema[\"properties\"]:\n",
    "                properties_dict[p[0]] = item_feature[\"attributes\"][p[0]]\n",
    "                \n",
    "            feature = {\"geometry\": mapping(geom),\n",
    "                           \"properties\": properties_dict\n",
    "                          }\n",
    "            feature_list.append(feature)\n",
    "\n",
    "        print(\"Writing layer {} to {}\".format(i[\"name\"], geopackage_name))    \n",
    "        with fiona.open(geopackage_name, \"w\", layer=i[\"name\"], driver=\"GPKG\",\n",
    "                schema=schema, crs=crs) as dst:\n",
    "            for f in feature_list:\n",
    "                dst.write(f)\n",
    "        print(\"Writing layer {} to {} complete!\\n\".format(i[\"name\"], geopackage_name))\n",
    "\n",
    "print(\"Processing {} table(s)...\\n\".format(len(tables_list)))\n",
    "for t in tables_list:\n",
    "    print(\"Processing {}\".format(t[\"name\"]))\n",
    "    table = t[\"table_item\"]\n",
    "    table_df = table.tables[t[\"layer\"]].query().df\n",
    "    connection = sqlite3.connect(geopackage_name)\n",
    "    print(\"Writing table {} to {}\".format(t[\"name\"], geopackage_name))\n",
    "    table_df.to_sql(t[\"name\"], connection)\n",
    "    connection.close()\n",
    "    print(\"Writing table {} to {} complete!\\n\".format(t[\"name\"], geopackage_name))\n",
    "    \n",
    "print(\"Process complete.\")"
   ]
  }
 ],
 "metadata": {
  "kernelspec": {
   "display_name": "Python 3",
   "language": "python",
   "name": "python3"
  },
  "language_info": {
   "codemirror_mode": {
    "name": "ipython",
    "version": 3
   },
   "file_extension": ".py",
   "mimetype": "text/x-python",
   "name": "python",
   "nbconvert_exporter": "python",
   "pygments_lexer": "ipython3",
   "version": "3.5.5"
  }
 },
 "nbformat": 4,
 "nbformat_minor": 2
}
